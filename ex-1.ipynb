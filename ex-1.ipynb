{
 "cells": [
  {
   "cell_type": "markdown",
   "metadata": {},
   "source": [
    "## Snowplow Problem Solution Report\n",
    "\n",
    "Let's consider a simple example with 5 houses located at positions: [-10, -5, 1, 4, 20].\n",
    "\n",
    "If we sort the house positions, the cleaning order would be: [-10, -5, 1, 4, 20].\n",
    "The total waiting time for this order is: (10 + 15 + 16 + 20 + 40) / 5 = 20.2\n",
    "\n",
    "If we go to the closest house at each time step, the cleaning order would be: [1, 4, -5, -10, 20].\n",
    "The total waiting time for this order is: (1 + 5 + 10 + 20 + 40) / 5 = 15.2\n",
    "\n",
    "However, the optimal cleaning order is: [1, -5, -10, 4, 20].\n",
    "The total waiting time for this order is: (1 + 6 + 16 + 20 + 40) / 5 = 16.6\n",
    "\n",
    "This example proves that neither sorting the house positions nor going to the closest house at each time step guarantees the optimal cleaning order.\n",
    "\n",
    "Step 2: Implementing a polynomial-time algorithm\n",
    "To determine the optimal cleaning order, we can use a dynamic programming approach. Let's define `dp[i][j]` as the minimum total waiting time for houses from index `i` to index `j` (inclusive).\n",
    "\n",
    "The base case is when there is only one house, i.e., `i == j`. In this case, the waiting time is simply the absolute position of the house.\n",
    "\n",
    "For the general case, we can iterate over all possible split points `k` between `i` and `j`. The minimum total waiting time for houses from `i` to `j` is the sum of:\n",
    "- The minimum total waiting time for houses from `i` to `k` (`dp[i][k]`)\n",
    "- The minimum total waiting time for houses from `k+1` to `j` (`dp[k+1][j]`)\n",
    "- The additional waiting time for houses from `k+1` to `j`, which is `(j-k) * (abs(houses[k]) + dp[i][k])`\n",
    "\n",
    "We can calculate `dp[i][j]` for all possible `i` and `j` using nested loops and take the minimum value among all split points.\n",
    "\n",
    "Here's the implementation of the `parcours(list)` function:"
   ]
  },
  {
   "cell_type": "code",
   "execution_count": 8,
   "metadata": {},
   "outputs": [],
   "source": [
    "def parcours(houses):\n",
    "    n = len(houses)\n",
    "    dp = [[0] * n for _ in range(n)]\n",
    "    \n",
    "    for i in range(n):\n",
    "        dp[i][i] = abs(houses[i])\n",
    "    \n",
    "    for length in range(2, n+1):\n",
    "        for i in range(n-length+1):\n",
    "            j = i + length - 1\n",
    "            dp[i][j] = float('inf')\n",
    "            for k in range(i, j):\n",
    "                wait_time = dp[i][k] + dp[k+1][j] + (j-k) * (abs(houses[k]) + dp[i][k])\n",
    "                dp[i][j] = min(dp[i][j], wait_time)\n",
    "    \n",
    "    order = []\n",
    "    stack = [(0, n-1)]\n",
    "    while stack:\n",
    "        i, j = stack.pop()\n",
    "        if i == j:\n",
    "            order.append(houses[i])\n",
    "        else:\n",
    "            min_wait = float('inf')\n",
    "            split_point = -1\n",
    "            for k in range(i, j):\n",
    "                wait_time = dp[i][k] + dp[k+1][j] + (j-k) * (abs(houses[k]) + dp[i][k])\n",
    "                if wait_time == dp[i][j]:\n",
    "                    split_point = k\n",
    "                    break\n",
    "            stack.append((split_point+1, j))\n",
    "            stack.append((i, split_point))\n",
    "    \n",
    "    return order"
   ]
  },
  {
   "cell_type": "markdown",
   "metadata": {},
   "source": [
    "Step 3: Testing the algorithm\n",
    "Let's generate random house positions and test the algorithm:"
   ]
  },
  {
   "cell_type": "code",
   "execution_count": 10,
   "metadata": {},
   "outputs": [
    {
     "name": "stdout",
     "output_type": "stream",
     "text": [
      "Optimal cleaning order: [17.3777979637309, 4.36899171784857, 12.065019726384978, 5.160395082142463, 2.2834333544244076, 11.85341189955797, -6.4740464592826985, 5.344161847281759, -7.015869531041227, 25.23433738931752]\n"
     ]
    }
   ],
   "source": [
    "import numpy as np\n",
    "\n",
    "houses = np.random.normal(0, 10, 10).tolist()\n",
    "optimal_order = parcours(houses)\n",
    "print(\"Optimal cleaning order:\", optimal_order)"
   ]
  },
  {
   "cell_type": "markdown",
   "metadata": {},
   "source": [
    "We can compare the performance of our algorithm with a greedy solution that goes to the closest house at each time step.\n",
    "\n",
    "Step 4: Proving polynomial time complexity\n",
    "Let's analyze the time complexity of the `parcours(list)` function.\n",
    "\n",
    "The nested loops for calculating `dp[i][j]` have a time complexity of O(n^3), where n is the number of houses. This is because there are three nested loops: `length` (O(n)), `i` (O(n)), and `k` (O(n)).\n",
    "\n",
    "Reconstructing the optimal cleaning order using the stack has a time complexity of O(n), as each house is pushed and popped from the stack exactly once.\n",
    "\n",
    "Therefore, the overall time complexity of the `parcours(list)` function is O(n^3), which is polynomial in terms of the number of houses.\n",
    "\n",
    "In conclusion, we have proposed and implemented a polynomial-time algorithm using dynamic programming to determine the optimal cleaning order for the snowplow problem. The algorithm minimizes the average waiting time for the houses and runs in O(n^3) time complexity."
   ]
  }
 ],
 "metadata": {
  "kernelspec": {
   "display_name": "Python 3",
   "language": "python",
   "name": "python3"
  },
  "language_info": {
   "codemirror_mode": {
    "name": "ipython",
    "version": 3
   },
   "file_extension": ".py",
   "mimetype": "text/x-python",
   "name": "python",
   "nbconvert_exporter": "python",
   "pygments_lexer": "ipython3",
   "version": "3.12.3"
  }
 },
 "nbformat": 4,
 "nbformat_minor": 2
}
